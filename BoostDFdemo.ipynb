{
 "cells": [
  {
   "cell_type": "markdown",
   "metadata": {},
   "source": [
    "Read in some data into a dataframe"
   ]
  },
  {
   "cell_type": "code",
   "execution_count": 2,
   "metadata": {
    "collapsed": true
   },
   "outputs": [],
   "source": [
    "import pandas as pd\n",
    "dateparse = lambda x: pd.datetime.strptime(x, '%d/%m/%Y')\n",
    "DMOdata = pd.read_csv(r'data\\GILTS2012ToPresent.csv', parse_dates=['Close of Business Date', 'Redemption Date'], date_parser=dateparse)\n",
    "\n",
    "dmo_ix = DMOdata.set_index('Close of Business Date')"
   ]
  },
  {
   "cell_type": "markdown",
   "metadata": {
    "collapsed": false
   },
   "source": [
    "Convert the dataframe to dict. Use orient to format it as {Column : Pandas Series} so we can get at the underlying array using the Series.values accessor "
   ]
  },
  {
   "cell_type": "code",
   "execution_count": 3,
   "metadata": {
    "collapsed": false
   },
   "outputs": [],
   "source": [
    "test = dmo_ix.to_dict(orient='series')"
   ]
  },
  {
   "cell_type": "code",
   "execution_count": 4,
   "metadata": {
    "collapsed": false
   },
   "outputs": [],
   "source": [
    "import BoostDF"
   ]
  },
  {
   "cell_type": "code",
   "execution_count": 5,
   "metadata": {
    "collapsed": false
   },
   "outputs": [
    {
     "data": {
      "text/plain": [
       "\"Accrued Interest [ 0.        0.        0.       ...,  0.787293  0.801105  0.842541]\\nClean Price [  99.79  100.21  100.27 ...,  106.49  106.47  106.47]\\nDirty Price [  99.79      100.21      100.27     ...,  107.277293  107.271105\\n  107.312541]\\nGilt Name ['0.5% Treasury Gilt 2022' '0.5% Treasury Gilt 2022'\\n '0.5% Treasury Gilt 2022' ..., '5% Treasury Gilt 2018'\\n '5% Treasury Gilt 2018' '5% Treasury Gilt 2018']\\nISIN Code ['GB00BD0PCK97' 'GB00BD0PCK97' 'GB00BD0PCK97' ..., 'GB00B1VWPC84'\\n 'GB00B1VWPC84' 'GB00B1VWPC84']\\nIndexation Lag [ nan  nan  nan ...,  nan  nan  nan]\\nModified Duration [ 5.87  5.87  5.87 ...,  1.31  1.3   1.3 ]\\nRedemption Date ['2022-07-22T00:00:00.000000000' '2022-07-22T00:00:00.000000000'\\n '2022-07-22T00:00:00.000000000' ..., '2018-03-07T00:00:00.000000000'\\n '2018-03-07T00:00:00.000000000' '2018-03-07T00:00:00.000000000']\\nYield (%) [ 0.535807  0.464281  0.45409  ...,  0.158658  0.163418  0.134654]\\n\""
      ]
     },
     "execution_count": 5,
     "metadata": {},
     "output_type": "execute_result"
    }
   ],
   "source": [
    "BoostDF.test_df(test)"
   ]
  },
  {
   "cell_type": "code",
   "execution_count": 6,
   "metadata": {
    "collapsed": false
   },
   "outputs": [
    {
     "name": "stdout",
     "output_type": "stream",
     "text": [
      "[\"ISIN Code ['GB00BD0PCK97' 'GB00BD0PCK97' 'GB00BD0PCK97' ..., 'GB00B1VWPC84'\\n 'GB00B1VWPC84' 'GB00B1VWPC84']\\n\", 'Dirty Price [  99.79      100.21      100.27     ...,  107.277293  107.271105\\n  107.312541]\\n', 'Yield (%) [ 0.535807  0.464281  0.45409  ...,  0.158658  0.163418  0.134654]\\n', 'Modified Duration [ 5.87  5.87  5.87 ...,  1.31  1.3   1.3 ]\\n', 'Clean Price [  99.79  100.21  100.27 ...,  106.49  106.47  106.47]\\n', 'Indexation Lag [ nan  nan  nan ...,  nan  nan  nan]\\n', \"Gilt Name ['0.5% Treasury Gilt 2022' '0.5% Treasury Gilt 2022'\\n '0.5% Treasury Gilt 2022' ..., '5% Treasury Gilt 2018'\\n '5% Treasury Gilt 2018' '5% Treasury Gilt 2018']\\n\", 'Accrued Interest [ 0.        0.        0.       ...,  0.787293  0.801105  0.842541]\\n', \"Redemption Date ['2022-07-22T00:00:00.000000000' '2022-07-22T00:00:00.000000000'\\n '2022-07-22T00:00:00.000000000' ..., '2018-03-07T00:00:00.000000000'\\n '2018-03-07T00:00:00.000000000' '2018-03-07T00:00:00.000000000']\\n\"]\n"
     ]
    }
   ],
   "source": [
    "print(['%s %s\\n' % (col,test[col].values) for col in test]) ##this is effectively what we are printing above"
   ]
  },
  {
   "cell_type": "code",
   "execution_count": null,
   "metadata": {
    "collapsed": false
   },
   "outputs": [],
   "source": []
  },
  {
   "cell_type": "code",
   "execution_count": null,
   "metadata": {
    "collapsed": true
   },
   "outputs": [],
   "source": []
  }
 ],
 "metadata": {
  "anaconda-cloud": {},
  "kernelspec": {
   "display_name": "Python [Root]",
   "language": "python",
   "name": "Python [Root]"
  },
  "language_info": {
   "codemirror_mode": {
    "name": "ipython",
    "version": 3
   },
   "file_extension": ".py",
   "mimetype": "text/x-python",
   "name": "python",
   "nbconvert_exporter": "python",
   "pygments_lexer": "ipython3",
   "version": "3.5.2"
  }
 },
 "nbformat": 4,
 "nbformat_minor": 0
}
